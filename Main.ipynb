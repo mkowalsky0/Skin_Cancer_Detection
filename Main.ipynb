{
 "cells": [
  {
   "cell_type": "code",
   "execution_count": 94,
   "id": "b624f93c",
   "metadata": {},
   "outputs": [],
   "source": [
    "import cv2 as cv\n",
    "import pandas as pd\n",
    "import numpy as np\n",
    "import matplotlib.pyplot as plt\n",
    "import seaborn as sb\n",
    "import glob\n",
    "%matplotlib inline"
   ]
  },
  {
   "cell_type": "code",
   "execution_count": 113,
   "id": "aaa84196",
   "metadata": {},
   "outputs": [],
   "source": [
    "# Getting all paths with images\n",
    "path1 = glob.glob('DataBase/HAM10000_images_part_1/*')\n",
    "path2 = glob.glob('DataBase/HAM10000_images_part_2/*')\n",
    "path3 = glob.glob('ala/*')"
   ]
  },
  {
   "cell_type": "code",
   "execution_count": 100,
   "id": "e83267ad",
   "metadata": {},
   "outputs": [
    {
     "name": "stdout",
     "output_type": "stream",
     "text": [
      "<class 'pandas.core.frame.DataFrame'>\n",
      "RangeIndex: 10015 entries, 0 to 10014\n",
      "Data columns (total 7 columns):\n",
      " #   Column        Non-Null Count  Dtype  \n",
      "---  ------        --------------  -----  \n",
      " 0   lesion_id     10015 non-null  object \n",
      " 1   image_id      10015 non-null  object \n",
      " 2   dx            10015 non-null  object \n",
      " 3   dx_type       10015 non-null  object \n",
      " 4   age           9958 non-null   float64\n",
      " 5   sex           10015 non-null  object \n",
      " 6   localization  10015 non-null  object \n",
      "dtypes: float64(1), object(6)\n",
      "memory usage: 547.8+ KB\n"
     ]
    }
   ],
   "source": [
    "# Reading all database and save it in all_data\n",
    "labels = pd.read_csv('DataBase/HAM10000_metadata.csv')\n",
    "labels.info()"
   ]
  },
  {
   "cell_type": "code",
   "execution_count": 146,
   "id": "0d960b82",
   "metadata": {},
   "outputs": [
    {
     "data": {
      "text/html": [
       "<div>\n",
       "<style scoped>\n",
       "    .dataframe tbody tr th:only-of-type {\n",
       "        vertical-align: middle;\n",
       "    }\n",
       "\n",
       "    .dataframe tbody tr th {\n",
       "        vertical-align: top;\n",
       "    }\n",
       "\n",
       "    .dataframe thead th {\n",
       "        text-align: right;\n",
       "    }\n",
       "</style>\n",
       "<table border=\"1\" class=\"dataframe\">\n",
       "  <thead>\n",
       "    <tr style=\"text-align: right;\">\n",
       "      <th></th>\n",
       "      <th>lesion_id</th>\n",
       "      <th>image_id</th>\n",
       "      <th>dx</th>\n",
       "      <th>dx_type</th>\n",
       "      <th>age</th>\n",
       "      <th>sex</th>\n",
       "      <th>localization</th>\n",
       "    </tr>\n",
       "  </thead>\n",
       "  <tbody>\n",
       "    <tr>\n",
       "      <th>0</th>\n",
       "      <td>HAM_0000118</td>\n",
       "      <td>ISIC_0027419</td>\n",
       "      <td>bkl</td>\n",
       "      <td>histo</td>\n",
       "      <td>80.0</td>\n",
       "      <td>male</td>\n",
       "      <td>scalp</td>\n",
       "    </tr>\n",
       "    <tr>\n",
       "      <th>1</th>\n",
       "      <td>HAM_0000118</td>\n",
       "      <td>ISIC_0025030</td>\n",
       "      <td>bkl</td>\n",
       "      <td>histo</td>\n",
       "      <td>80.0</td>\n",
       "      <td>male</td>\n",
       "      <td>scalp</td>\n",
       "    </tr>\n",
       "    <tr>\n",
       "      <th>2</th>\n",
       "      <td>HAM_0002730</td>\n",
       "      <td>ISIC_0026769</td>\n",
       "      <td>bkl</td>\n",
       "      <td>histo</td>\n",
       "      <td>80.0</td>\n",
       "      <td>male</td>\n",
       "      <td>scalp</td>\n",
       "    </tr>\n",
       "  </tbody>\n",
       "</table>\n",
       "</div>"
      ],
      "text/plain": [
       "     lesion_id      image_id   dx dx_type   age   sex localization\n",
       "0  HAM_0000118  ISIC_0027419  bkl   histo  80.0  male        scalp\n",
       "1  HAM_0000118  ISIC_0025030  bkl   histo  80.0  male        scalp\n",
       "2  HAM_0002730  ISIC_0026769  bkl   histo  80.0  male        scalp"
      ]
     },
     "execution_count": 146,
     "metadata": {},
     "output_type": "execute_result"
    }
   ],
   "source": [
    "# Labels visualisation as a DataFrame\n",
    "labels[:3]"
   ]
  },
  {
   "cell_type": "code",
   "execution_count": 101,
   "id": "cfac85f4",
   "metadata": {},
   "outputs": [],
   "source": [
    "# Setting images size\n",
    "IMG_WIDTH = 200\n",
    "IMG_HEIGHT = 200"
   ]
  },
  {
   "cell_type": "code",
   "execution_count": 148,
   "id": "8d8c71da",
   "metadata": {},
   "outputs": [],
   "source": [
    "# Function to read a dataset from 1 part of images\n",
    "data1 = []\n",
    "\n",
    "def get_data1():\n",
    "    for path in path1:\n",
    "        img = cv.imread(path, cv.IMREAD_GRAYSCALE)\n",
    "        new_img = cv.resize(img, (IMG_WIDTH,IMG_HEIGHT))\n",
    "        data1.append(new_img)"
   ]
  },
  {
   "cell_type": "code",
   "execution_count": 149,
   "id": "7442d5c4",
   "metadata": {},
   "outputs": [],
   "source": [
    "get_data1()"
   ]
  },
  {
   "cell_type": "code",
   "execution_count": 153,
   "id": "cfe90e42",
   "metadata": {},
   "outputs": [
    {
     "data": {
      "text/plain": [
       "array([[182, 186, 185, ..., 176, 172, 172],\n",
       "       [184, 188, 190, ..., 173, 171, 174],\n",
       "       [187, 191, 188, ..., 174, 170, 168],\n",
       "       ...,\n",
       "       [165, 168, 167, ..., 158, 159, 158],\n",
       "       [164, 167, 165, ..., 159, 151, 155],\n",
       "       [161, 160, 163, ..., 153, 158, 151]], dtype=uint8)"
      ]
     },
     "execution_count": 153,
     "metadata": {},
     "output_type": "execute_result"
    }
   ],
   "source": [
    "data1[2]"
   ]
  },
  {
   "cell_type": "code",
   "execution_count": null,
   "id": "3bf80550",
   "metadata": {},
   "outputs": [],
   "source": []
  }
 ],
 "metadata": {
  "kernelspec": {
   "display_name": "Python 3 (ipykernel)",
   "language": "python",
   "name": "python3"
  },
  "language_info": {
   "codemirror_mode": {
    "name": "ipython",
    "version": 3
   },
   "file_extension": ".py",
   "mimetype": "text/x-python",
   "name": "python",
   "nbconvert_exporter": "python",
   "pygments_lexer": "ipython3",
   "version": "3.10.1"
  }
 },
 "nbformat": 4,
 "nbformat_minor": 5
}
