{
 "cells": [
  {
   "cell_type": "code",
   "execution_count": 2,
   "id": "b624f93c",
   "metadata": {},
   "outputs": [],
   "source": [
    "import cv2 as cv\n",
    "import pandas as pd\n",
    "import numpy as np\n",
    "import matplotlib.pyplot as plt\n",
    "import seaborn as sb\n",
    "import glob\n",
    "%matplotlib inline"
   ]
  },
  {
   "cell_type": "markdown",
   "id": "6d5e76b3",
   "metadata": {},
   "source": [
    "# Dataset analisys and visualisation"
   ]
  },
  {
   "cell_type": "code",
   "execution_count": 6,
   "id": "aaa84196",
   "metadata": {},
   "outputs": [],
   "source": [
    "# Getting all paths with images\n",
    "path1 = glob.glob('DataBase/HAM10000_images_part_1/*')\n",
    "path2 = glob.glob('DataBase/HAM10000_images_part_2/*')\n",
    "# Sorting filenames\n",
    "path1.sort()\n",
    "path2.sort()"
   ]
  },
  {
   "cell_type": "code",
   "execution_count": 42,
   "id": "e83267ad",
   "metadata": {},
   "outputs": [
    {
     "name": "stdout",
     "output_type": "stream",
     "text": [
      "<class 'pandas.core.frame.DataFrame'>\n",
      "RangeIndex: 10015 entries, 0 to 10014\n",
      "Data columns (total 7 columns):\n",
      " #   Column        Non-Null Count  Dtype  \n",
      "---  ------        --------------  -----  \n",
      " 0   lesion_id     10015 non-null  object \n",
      " 1   image_id      10015 non-null  object \n",
      " 2   dx            10015 non-null  object \n",
      " 3   dx_type       10015 non-null  object \n",
      " 4   age           9958 non-null   float64\n",
      " 5   sex           10015 non-null  object \n",
      " 6   localization  10015 non-null  object \n",
      "dtypes: float64(1), object(6)\n",
      "memory usage: 547.8+ KB\n"
     ]
    }
   ],
   "source": [
    "# Reading all database and save it in all_data\n",
    "labels = pd.read_csv('DataBase/HAM10000_metadata.csv')\n",
    "labels.info()"
   ]
  },
  {
   "cell_type": "code",
   "execution_count": 43,
   "id": "0f630301",
   "metadata": {},
   "outputs": [
    {
     "data": {
      "text/html": [
       "<div>\n",
       "<style scoped>\n",
       "    .dataframe tbody tr th:only-of-type {\n",
       "        vertical-align: middle;\n",
       "    }\n",
       "\n",
       "    .dataframe tbody tr th {\n",
       "        vertical-align: top;\n",
       "    }\n",
       "\n",
       "    .dataframe thead th {\n",
       "        text-align: right;\n",
       "    }\n",
       "</style>\n",
       "<table border=\"1\" class=\"dataframe\">\n",
       "  <thead>\n",
       "    <tr style=\"text-align: right;\">\n",
       "      <th></th>\n",
       "      <th>lesion_id</th>\n",
       "      <th>image_id</th>\n",
       "      <th>dx</th>\n",
       "      <th>dx_type</th>\n",
       "      <th>age</th>\n",
       "      <th>sex</th>\n",
       "      <th>localization</th>\n",
       "    </tr>\n",
       "  </thead>\n",
       "  <tbody>\n",
       "    <tr>\n",
       "      <th>0</th>\n",
       "      <td>HAM_0000550</td>\n",
       "      <td>ISIC_0024306</td>\n",
       "      <td>nv</td>\n",
       "      <td>follow_up</td>\n",
       "      <td>45.0</td>\n",
       "      <td>male</td>\n",
       "      <td>trunk</td>\n",
       "    </tr>\n",
       "    <tr>\n",
       "      <th>1</th>\n",
       "      <td>HAM_0003577</td>\n",
       "      <td>ISIC_0024307</td>\n",
       "      <td>nv</td>\n",
       "      <td>follow_up</td>\n",
       "      <td>50.0</td>\n",
       "      <td>male</td>\n",
       "      <td>lower extremity</td>\n",
       "    </tr>\n",
       "    <tr>\n",
       "      <th>2</th>\n",
       "      <td>HAM_0001477</td>\n",
       "      <td>ISIC_0024308</td>\n",
       "      <td>nv</td>\n",
       "      <td>follow_up</td>\n",
       "      <td>55.0</td>\n",
       "      <td>female</td>\n",
       "      <td>trunk</td>\n",
       "    </tr>\n",
       "    <tr>\n",
       "      <th>3</th>\n",
       "      <td>HAM_0000484</td>\n",
       "      <td>ISIC_0024309</td>\n",
       "      <td>nv</td>\n",
       "      <td>follow_up</td>\n",
       "      <td>40.0</td>\n",
       "      <td>male</td>\n",
       "      <td>trunk</td>\n",
       "    </tr>\n",
       "    <tr>\n",
       "      <th>4</th>\n",
       "      <td>HAM_0003350</td>\n",
       "      <td>ISIC_0024310</td>\n",
       "      <td>mel</td>\n",
       "      <td>histo</td>\n",
       "      <td>60.0</td>\n",
       "      <td>male</td>\n",
       "      <td>chest</td>\n",
       "    </tr>\n",
       "    <tr>\n",
       "      <th>...</th>\n",
       "      <td>...</td>\n",
       "      <td>...</td>\n",
       "      <td>...</td>\n",
       "      <td>...</td>\n",
       "      <td>...</td>\n",
       "      <td>...</td>\n",
       "      <td>...</td>\n",
       "    </tr>\n",
       "    <tr>\n",
       "      <th>10010</th>\n",
       "      <td>HAM_0004304</td>\n",
       "      <td>ISIC_0034316</td>\n",
       "      <td>mel</td>\n",
       "      <td>histo</td>\n",
       "      <td>85.0</td>\n",
       "      <td>male</td>\n",
       "      <td>upper extremity</td>\n",
       "    </tr>\n",
       "    <tr>\n",
       "      <th>10011</th>\n",
       "      <td>HAM_0006376</td>\n",
       "      <td>ISIC_0034317</td>\n",
       "      <td>mel</td>\n",
       "      <td>histo</td>\n",
       "      <td>70.0</td>\n",
       "      <td>female</td>\n",
       "      <td>lower extremity</td>\n",
       "    </tr>\n",
       "    <tr>\n",
       "      <th>10012</th>\n",
       "      <td>HAM_0000344</td>\n",
       "      <td>ISIC_0034318</td>\n",
       "      <td>bkl</td>\n",
       "      <td>histo</td>\n",
       "      <td>55.0</td>\n",
       "      <td>male</td>\n",
       "      <td>trunk</td>\n",
       "    </tr>\n",
       "    <tr>\n",
       "      <th>10013</th>\n",
       "      <td>HAM_0000747</td>\n",
       "      <td>ISIC_0034319</td>\n",
       "      <td>nv</td>\n",
       "      <td>histo</td>\n",
       "      <td>30.0</td>\n",
       "      <td>male</td>\n",
       "      <td>trunk</td>\n",
       "    </tr>\n",
       "    <tr>\n",
       "      <th>10014</th>\n",
       "      <td>HAM_0002244</td>\n",
       "      <td>ISIC_0034320</td>\n",
       "      <td>nv</td>\n",
       "      <td>histo</td>\n",
       "      <td>25.0</td>\n",
       "      <td>female</td>\n",
       "      <td>chest</td>\n",
       "    </tr>\n",
       "  </tbody>\n",
       "</table>\n",
       "<p>10015 rows × 7 columns</p>\n",
       "</div>"
      ],
      "text/plain": [
       "         lesion_id      image_id   dx    dx_type   age     sex  \\\n",
       "0      HAM_0000550  ISIC_0024306   nv  follow_up  45.0    male   \n",
       "1      HAM_0003577  ISIC_0024307   nv  follow_up  50.0    male   \n",
       "2      HAM_0001477  ISIC_0024308   nv  follow_up  55.0  female   \n",
       "3      HAM_0000484  ISIC_0024309   nv  follow_up  40.0    male   \n",
       "4      HAM_0003350  ISIC_0024310  mel      histo  60.0    male   \n",
       "...            ...           ...  ...        ...   ...     ...   \n",
       "10010  HAM_0004304  ISIC_0034316  mel      histo  85.0    male   \n",
       "10011  HAM_0006376  ISIC_0034317  mel      histo  70.0  female   \n",
       "10012  HAM_0000344  ISIC_0034318  bkl      histo  55.0    male   \n",
       "10013  HAM_0000747  ISIC_0034319   nv      histo  30.0    male   \n",
       "10014  HAM_0002244  ISIC_0034320   nv      histo  25.0  female   \n",
       "\n",
       "          localization  \n",
       "0                trunk  \n",
       "1      lower extremity  \n",
       "2                trunk  \n",
       "3                trunk  \n",
       "4                chest  \n",
       "...                ...  \n",
       "10010  upper extremity  \n",
       "10011  lower extremity  \n",
       "10012            trunk  \n",
       "10013            trunk  \n",
       "10014            chest  \n",
       "\n",
       "[10015 rows x 7 columns]"
      ]
     },
     "execution_count": 43,
     "metadata": {},
     "output_type": "execute_result"
    }
   ],
   "source": [
    "# Labels sorting by images ID and visualisation\n",
    "labels.sort_values('image_id',axis=0, ignore_index=True)"
   ]
  },
  {
   "cell_type": "code",
   "execution_count": 129,
   "id": "0d960b82",
   "metadata": {},
   "outputs": [
    {
     "data": {
      "text/plain": [
       "array(['akiec', 'bcc', 'bkl', 'df', 'mel', 'nv', 'vasc'], dtype=object)"
      ]
     },
     "execution_count": 129,
     "metadata": {},
     "output_type": "execute_result"
    }
   ],
   "source": [
    "# Data analisys: Counting samples for each disease\n",
    "names , n_counts = np.unique(labels['dx'], return_counts =True)\n",
    "# Checking unique diseases and their indexes\n",
    "names"
   ]
  },
  {
   "cell_type": "code",
   "execution_count": 130,
   "id": "a45903e0",
   "metadata": {},
   "outputs": [
    {
     "data": {
      "text/plain": [
       "{'akiec': \"Bowen's desease\",\n",
       " 'bcc': 'basal cell carcinoma',\n",
       " 'bkl': 'benign keratosis-like lesions',\n",
       " 'df': 'dermatofibroma',\n",
       " 'mel': 'melanoma',\n",
       " 'nv': 'melanocytic nevi',\n",
       " 'vasc': 'vascular lesions'}"
      ]
     },
     "execution_count": 130,
     "metadata": {},
     "output_type": "execute_result"
    }
   ],
   "source": [
    "# Connecting whole names of diseases with their shortcuts\n",
    "full_names = {'akiec':\"Bowen's desease\", 'bcc':'basal cell carcinoma',\n",
    "        'bkl':'benign keratosis-like lesions', 'df':'dermatofibroma',\n",
    "        'mel':'melanoma', 'nv':'melanocytic nevi', 'vasc':'vascular lesions'}\n",
    "full_names"
   ]
  },
  {
   "cell_type": "code",
   "execution_count": 131,
   "id": "eeffbb95",
   "metadata": {
    "scrolled": false
   },
   "outputs": [
    {
     "data": {
      "text/plain": [
       "Text(0.5, 1.0, 'Samples of skin diseases')"
      ]
     },
     "execution_count": 131,
     "metadata": {},
     "output_type": "execute_result"
    },
    {
     "data": {
      "image/png": "[encoded data removed]",
      "text/plain": [
       "<Figure size 432x288 with 1 Axes>"
      ]
     },
     "metadata": {
      "needs_background": "light"
     },
     "output_type": "display_data"
    }
   ],
   "source": [
    "# Samples of skin diseases in dataset analise\n",
    "disease = []\n",
    "for key in full_names.keys():\n",
    "    disease.append(full_names[key])\n",
    "\n",
    "plt.bar(disease, counts, color=['mediumaquamarine', 'orange', \n",
    "                                'thistle', 'palevioletred', \n",
    "                                'yellowgreen','y'])\n",
    "plt.xticks(rotation='vertical', fontsize=13)\n",
    "plt.yticks(range(0,7000,500), fontsize=13)\n",
    "plt.title('Samples of skin diseases', fontsize=15)"
   ]
  },
  {
   "cell_type": "code",
   "execution_count": 187,
   "id": "75f4cea6",
   "metadata": {},
   "outputs": [
    {
     "data": {
      "text/plain": [
       "<matplotlib.legend.Legend at 0x1350252d0>"
      ]
     },
     "execution_count": 187,
     "metadata": {},
     "output_type": "execute_result"
    },
    {
     "data": {
      "image/png": "[encoded data removed]",
      "text/plain": [
       "<Figure size 432x288 with 1 Axes>"
      ]
     },
     "metadata": {},
     "output_type": "display_data"
    }
   ],
   "source": [
    "# Analising the gender in the dataset\\\n",
    "gender, g_counts = np.unique(labels['sex'], return_counts =True)\n",
    "explode = (0.1, 0, 0)\n",
    "plt.pie(x=g_counts, explode=explode, radius=2, autopct='%1.1f%%',\n",
    "        shadow=True, startangle=90, textprops=dict(fontsize=17),colors = ['thistle','mediumaquamarine'\n",
    "                                                                          ,'orange'])\n",
    "plt.legend(gender,\n",
    "          title=\"GENDER IN DATASET\",\n",
    "          loc=\"center left\",\n",
    "          bbox_to_anchor=(1.3, 0.4, 0.4, 1),\n",
    "          fontsize=13)"
   ]
  },
  {
   "cell_type": "code",
   "execution_count": 125,
   "id": "cfac85f4",
   "metadata": {},
   "outputs": [],
   "source": [
    "# Setting images size\n",
    "IMG_WIDTH = 200\n",
    "IMG_HEIGHT = 200"
   ]
  },
  {
   "cell_type": "code",
   "execution_count": 126,
   "id": "8d8c71da",
   "metadata": {},
   "outputs": [],
   "source": [
    "# Function to read a dataset from 1 part of images\n",
    "data1 = []\n",
    "\n",
    "def get_data1():\n",
    "    for path in path1:\n",
    "        img = cv.imread(path, cv.IMREAD_GRAYSCALE)\n",
    "        new_img = cv.resize(img, (IMG_WIDTH,IMG_HEIGHT))\n",
    "        data1.append(new_img)"
   ]
  },
  {
   "cell_type": "code",
   "execution_count": 127,
   "id": "7442d5c4",
   "metadata": {},
   "outputs": [],
   "source": [
    "get_data1()"
   ]
  },
  {
   "cell_type": "code",
   "execution_count": 128,
   "id": "cfe90e42",
   "metadata": {},
   "outputs": [
    {
     "data": {
      "text/plain": [
       "array([[197, 197, 194, ..., 192, 193, 193],\n",
       "       [196, 195, 193, ..., 189, 194, 190],\n",
       "       [196, 193, 195, ..., 189, 188, 189],\n",
       "       ...,\n",
       "       [187, 196, 188, ..., 168, 168, 167],\n",
       "       [188, 197, 185, ..., 168, 170, 166],\n",
       "       [191, 202, 186, ..., 170, 167, 166]], dtype=uint8)"
      ]
     },
     "execution_count": 128,
     "metadata": {},
     "output_type": "execute_result"
    }
   ],
   "source": [
    "data1[2]"
   ]
  },
  {
   "cell_type": "code",
   "execution_count": null,
   "id": "3bf80550",
   "metadata": {},
   "outputs": [],
   "source": []
  }
 ],
 "metadata": {
  "kernelspec": {
   "display_name": "Python 3 (ipykernel)",
   "language": "python",
   "name": "python3"
  },
  "language_info": {
   "codemirror_mode": {
    "name": "ipython",
    "version": 3
   },
   "file_extension": ".py",
   "mimetype": "text/x-python",
   "name": "python",
   "nbconvert_exporter": "python",
   "pygments_lexer": "ipython3",
   "version": "3.10.1"
  }
 },
 "nbformat": 4,
 "nbformat_minor": 5
}
